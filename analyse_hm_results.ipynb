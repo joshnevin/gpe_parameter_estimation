{
 "cells": [
  {
   "cell_type": "code",
   "execution_count": 1,
   "id": "eb0edb21",
   "metadata": {},
   "outputs": [],
   "source": [
    "import numpy as np\n",
    "import mogp_emulator\n",
    "import pickle\n",
    "import matplotlib.pyplot as plt\n",
    "#from scipy.stats import norm, randint \n",
    "from scipy.linalg import norm\n",
    "import matplotlib\n",
    "import time\n",
    "font = { 'family' : 'sans-serif',\n",
    "                'weight' : 'normal',\n",
    "                'size'   : 12}\n",
    "matplotlib.rc('font', **font)\n",
    "import pandas as pd\n",
    "# from helper_functions import (get_l_norm, get_l_norm_all_values,\n",
    "#get_norm_val_for_norm, get_error, get_norm_error, get_norm_for_plot, get_param_err_plot, \n",
    "# get_norm_plot, print_results, get_validation_norms, get_full_intersec_res)\n",
    "# from analysis_functions import (signif, get_arrays_for_gpe_verif, get_gpe_verif, get_subset_inds,intersection, \n",
    "# norms_test, get_best_params, get_append_arr, generate_results, get_run_name, append_results, power_selector,find_if_params_equal)\n",
    "# from visualisation_functions import (get_l_norm, get_l_norm_all_values,\n",
    "# get_norm_val_for_norm, get_error, get_norm_error, get_norm_for_plot, get_param_err_plot, \n",
    "# get_norm_plot, print_results, get_validation_norms, get_full_intersec_res)\n",
    "\n",
    "from analysis_functions import *\n",
    "from visualisation_functions import *"
   ]
  },
  {
   "cell_type": "code",
   "execution_count": 2,
   "id": "a488d1ee",
   "metadata": {},
   "outputs": [],
   "source": [
    "offset_cont = \"_asymr\"\n",
    "# offset_cont = \"_asyml\"\n",
    "data_dir_cont = 'hm_results'\n",
    "gpow_cont = \"\" # empty string for det. power, otherwise use \"_gpow_avex\" or \"_gpow_avx\" \n",
    "num_hm_cont = '15000000'\n",
    "gpe_control = ''\n",
    "runs = ['', '_run2', '_run3','_run4','_run5',]\n",
    "# snr_pens = [3001, 2001, 1001, 0.5001, 0.25001]\n",
    "snr_pens = [3001]"
   ]
  },
  {
   "cell_type": "code",
   "execution_count": 3,
   "id": "613c8243",
   "metadata": {},
   "outputs": [
    {
     "name": "stdout",
     "output_type": "stream",
     "text": [
      "intersec array length = 249\n",
      "[3001, 0.2, 1.2, 4.5, 14.8, '15000000', 249, 12, 'R', 1, 1, 0.008089, 0.004179, 0.002982]\n",
      "[3001, 0.2, 1.2, 4.51, 14.8, '15000000', 249, 3, 'R', 1, 1, 0.008089, 0.004179, 0.002982]\n"
     ]
    },
    {
     "name": "stderr",
     "output_type": "stream",
     "text": [
      "/Users/joshnevin/gpe_parameter_estimation/analysis_functions.py:314: FutureWarning: The frame.append method is deprecated and will be removed from pandas in a future version. Use pandas.concat instead.\n",
      "  main_df = main_df.append(params_df)\n",
      "/Users/joshnevin/gpe_parameter_estimation/analysis_functions.py:314: FutureWarning: The frame.append method is deprecated and will be removed from pandas in a future version. Use pandas.concat instead.\n",
      "  main_df = main_df.append(params_df)\n"
     ]
    },
    {
     "name": "stdout",
     "output_type": "stream",
     "text": [
      "intersec array length = 243\n",
      "[3001, 0.2, 1.2, 4.5, 14.8, '15000000', 243, 12, 'R', 2, 1, 0.008089, 0.004179, 0.002982]\n",
      "[3001, 0.2, 1.2, 4.51, 14.8, '15000000', 243, 3, 'R', 2, 1, 0.008089, 0.004179, 0.002982]\n"
     ]
    },
    {
     "name": "stderr",
     "output_type": "stream",
     "text": [
      "/Users/joshnevin/gpe_parameter_estimation/analysis_functions.py:314: FutureWarning: The frame.append method is deprecated and will be removed from pandas in a future version. Use pandas.concat instead.\n",
      "  main_df = main_df.append(params_df)\n",
      "/Users/joshnevin/gpe_parameter_estimation/analysis_functions.py:314: FutureWarning: The frame.append method is deprecated and will be removed from pandas in a future version. Use pandas.concat instead.\n",
      "  main_df = main_df.append(params_df)\n"
     ]
    },
    {
     "name": "stdout",
     "output_type": "stream",
     "text": [
      "intersec array length = 260\n",
      "[3001, 0.2, 1.2, 4.5, 14.8, '15000000', 260, 12, 'R', 3, 1, 0.008089, 0.004179, 0.002982]\n",
      "[3001, 0.2, 1.2, 4.51, 14.8, '15000000', 260, 3, 'R', 3, 1, 0.008089, 0.004179, 0.002982]\n"
     ]
    },
    {
     "name": "stderr",
     "output_type": "stream",
     "text": [
      "/Users/joshnevin/gpe_parameter_estimation/analysis_functions.py:314: FutureWarning: The frame.append method is deprecated and will be removed from pandas in a future version. Use pandas.concat instead.\n",
      "  main_df = main_df.append(params_df)\n",
      "/Users/joshnevin/gpe_parameter_estimation/analysis_functions.py:314: FutureWarning: The frame.append method is deprecated and will be removed from pandas in a future version. Use pandas.concat instead.\n",
      "  main_df = main_df.append(params_df)\n"
     ]
    },
    {
     "name": "stdout",
     "output_type": "stream",
     "text": [
      "intersec array length = 255\n",
      "[3001, 0.2, 1.2, 4.5, 14.8, '15000000', 255, 12, 'R', 4, 1, 0.008089, 0.004179, 0.002982]\n",
      "[3001, 0.2, 1.2, 4.51, 14.8, '15000000', 255, 3, 'R', 4, 1, 0.008089, 0.004179, 0.002982]\n"
     ]
    },
    {
     "name": "stderr",
     "output_type": "stream",
     "text": [
      "/Users/joshnevin/gpe_parameter_estimation/analysis_functions.py:314: FutureWarning: The frame.append method is deprecated and will be removed from pandas in a future version. Use pandas.concat instead.\n",
      "  main_df = main_df.append(params_df)\n",
      "/Users/joshnevin/gpe_parameter_estimation/analysis_functions.py:314: FutureWarning: The frame.append method is deprecated and will be removed from pandas in a future version. Use pandas.concat instead.\n",
      "  main_df = main_df.append(params_df)\n"
     ]
    },
    {
     "name": "stdout",
     "output_type": "stream",
     "text": [
      "intersec array length = 250\n",
      "[3001, 0.2, 1.2, 4.5, 14.8, '15000000', 250, 12, 'R', 5, 1, 0.008089, 0.004179, 0.002982]\n",
      "[3001, 0.2, 1.2, 4.51, 14.8, '15000000', 250, 3, 'R', 5, 1, 0.008089, 0.004179, 0.002982]\n"
     ]
    },
    {
     "name": "stderr",
     "output_type": "stream",
     "text": [
      "/Users/joshnevin/gpe_parameter_estimation/analysis_functions.py:314: FutureWarning: The frame.append method is deprecated and will be removed from pandas in a future version. Use pandas.concat instead.\n",
      "  main_df = main_df.append(params_df)\n",
      "/Users/joshnevin/gpe_parameter_estimation/analysis_functions.py:314: FutureWarning: The frame.append method is deprecated and will be removed from pandas in a future version. Use pandas.concat instead.\n",
      "  main_df = main_df.append(params_df)\n"
     ]
    }
   ],
   "source": [
    "for sp in snr_pens:\n",
    "    powers_cont, snrpen_cont = power_selector(sp, offset_cont)\n",
    "    power_names_cont = [str(int(pow)) for pow in powers_cont]\n",
    "    append_results(data_dir_cont, power_names_cont[0], power_names_cont[1], power_names_cont[2], power_names_cont[3],\n",
    "                   power_names_cont[4], snrpen_cont,num_hm_cont,offset_cont, runs,\n",
    "                   'analysis_results/detpowres_test.csv', gpe_control,gpow_cont, powers_cont, power_names_cont)"
   ]
  },
  {
   "cell_type": "markdown",
   "id": "42dde63f",
   "metadata": {},
   "source": [
    "**Plot histograms to analyse the distribution of physical layer parameters**"
   ]
  },
  {
   "cell_type": "code",
   "execution_count": null,
   "id": "9966f22e",
   "metadata": {},
   "outputs": [],
   "source": [
    "power_names_cont = [str(int(pow)) for pow in powers_cont]\n",
    "intersec_res = get_full_intersec_res(data_dir_cont, power_names_cont[0], power_names_cont[1], power_names_cont[2],\n",
    "                                     power_names_cont[3], power_names_cont[4], num_hm_cont, runs[0], \n",
    "                offset_cont, gpow_cont, gpe_control, powers_cont, power_names_cont)"
   ]
  },
  {
   "cell_type": "code",
   "execution_count": null,
   "id": "08043293",
   "metadata": {},
   "outputs": [],
   "source": [
    "f, ax = plt.subplots()\n",
    "plt.hist(intersec_res[:,1])\n",
    "plt.xlabel(\"Alpha (dB/km)\")\n",
    "plt.ylabel(\"Frequency density\")\n",
    "plt.text(0.2, 0.95, '$\\sigma$='+str(signif(np.std(intersec_res[:,1]),3)), horizontalalignment='center',\n",
    "     verticalalignment='center', transform=ax.transAxes, fontsize = 12)\n",
    "plt.text(0.2, 0.85, '$\\mu$='+str(signif(np.mean(intersec_res[:,1]),3)), horizontalalignment='center',\n",
    "     verticalalignment='center', transform=ax.transAxes, fontsize = 12)\n",
    "#plt.xlim([])\n",
    "#plt.ylim([0,0.003])\n",
    "plt.grid()\n",
    "#plt.legend(ncol=2, prop={'size':10}, loc=0)\n",
    "f.patch.set_facecolor('w')\n",
    "ax.set_aspect(1.0/ax.get_data_ratio(), adjustable='box')\n",
    "# plt.savefig('figures/alpha_hist_'+str(snrpen_cont)+str(offset_cont)+str(gpow_cont)+'.pdf', dpi=200,bbox_inches='tight')\n",
    "plt.show()"
   ]
  },
  {
   "cell_type": "code",
   "execution_count": null,
   "id": "17130d03",
   "metadata": {},
   "outputs": [],
   "source": [
    "f, ax = plt.subplots()\n",
    "plt.hist(intersec_res[:,3])\n",
    "plt.xlabel(\"Gamma (/W/km)\")\n",
    "plt.ylabel(\"Frequency density\")\n",
    "plt.text(0.2, 0.95, '$\\sigma$='+str(signif(np.std(intersec_res[:,3]),3)), horizontalalignment='center',\n",
    "     verticalalignment='center', transform=ax.transAxes, fontsize = 12)\n",
    "plt.text(0.2, 0.85, '$\\mu$='+str(signif(np.mean(intersec_res[:,3]),3)), horizontalalignment='center',\n",
    "     verticalalignment='center', transform=ax.transAxes, fontsize = 12)\n",
    "#plt.xlim([])\n",
    "#plt.ylim([0,0.003])\n",
    "plt.grid()\n",
    "#plt.legend(ncol=2, prop={'size':10}, loc=0)\n",
    "f.patch.set_facecolor('w')\n",
    "ax.set_aspect(1.0/ax.get_data_ratio(), adjustable='box')\n",
    "# plt.savefig('figures/gamma_hist_'+str(snrpen_cont)+str(offset_cont)+str(gpow_cont)+'.pdf', dpi=200,bbox_inches='tight')\n",
    "plt.show()"
   ]
  },
  {
   "cell_type": "code",
   "execution_count": null,
   "id": "ab2a31c6",
   "metadata": {},
   "outputs": [],
   "source": [
    "f, ax = plt.subplots()\n",
    "plt.hist(intersec_res[:,4])\n",
    "plt.xlabel(\"NF (dB)\")\n",
    "plt.ylabel(\"Frequency density\")\n",
    "plt.text(0.2, 0.95, '$\\sigma$='+str(signif(np.std(intersec_res[:,4]),3)), horizontalalignment='center',\n",
    "     verticalalignment='center', transform=ax.transAxes, fontsize = 12)\n",
    "plt.text(0.2, 0.85, '$\\mu$='+str(signif(np.mean(intersec_res[:,4]),3)), horizontalalignment='center',\n",
    "     verticalalignment='center', transform=ax.transAxes, fontsize = 12)\n",
    "#plt.xlim([])\n",
    "#plt.ylim([0,0.003])\n",
    "plt.grid()\n",
    "#plt.legend(ncol=2, prop={'size':10}, loc=0)\n",
    "f.patch.set_facecolor('w')\n",
    "ax.set_aspect(1.0/ax.get_data_ratio(), adjustable='box')\n",
    "# plt.savefig('figures/nf_hist_'+str(snrpen_cont)+str(offset_cont)+str(gpow_cont)+'.pdf', dpi=200,bbox_inches='tight')\n",
    "plt.show()"
   ]
  },
  {
   "cell_type": "code",
   "execution_count": null,
   "id": "35ca3b1a",
   "metadata": {},
   "outputs": [],
   "source": [
    "f, ax = plt.subplots()\n",
    "plt.hist(intersec_res[:,5])\n",
    "plt.xlabel(\"TRx B2B SNR (dB)\")\n",
    "plt.ylabel(\"Frequency density\")\n",
    "plt.text(0.2, 0.95, '$\\sigma$='+str(signif(np.std(intersec_res[:,5]),3)), horizontalalignment='center',\n",
    "     verticalalignment='center', transform=ax.transAxes, fontsize = 12)\n",
    "plt.text(0.2, 0.85, '$\\mu$='+str(signif(np.mean(intersec_res[:,5]),3)), horizontalalignment='center',\n",
    "     verticalalignment='center', transform=ax.transAxes, fontsize = 12)\n",
    "#plt.xlim([])\n",
    "#plt.ylim([0,0.003])\n",
    "plt.grid()\n",
    "#plt.legend(ncol=2, prop={'size':10}, loc=0)\n",
    "f.patch.set_facecolor('w')\n",
    "ax.set_aspect(1.0/ax.get_data_ratio(), adjustable='box')\n",
    "# plt.savefig('figures/b2b_hist_'+str(snrpen_cont)+str(offset_cont)+str(gpow_cont)+'.pdf', dpi=200,bbox_inches='tight')\n",
    "plt.show()"
   ]
  },
  {
   "cell_type": "markdown",
   "id": "0d4b6f2c",
   "metadata": {},
   "source": [
    "Get validation results for a given launch power"
   ]
  },
  {
   "cell_type": "code",
   "execution_count": null,
   "id": "56e0a227",
   "metadata": {},
   "outputs": [],
   "source": [
    "gausspow_var_df = pd.read_csv('analysis_results/gausspowres_variance.csv')\n",
    "gausspow_sam_df = pd.read_csv('analysis_results/gausspowres_wnorms.csv')\n",
    "sams = np.array([1, 3, 5, 10, 30, 50, 100])"
   ]
  },
  {
   "cell_type": "code",
   "execution_count": null,
   "id": "ff193952",
   "metadata": {},
   "outputs": [],
   "source": [
    "gpe_dir = \"saved_gpes\"\n",
    "# offset = \"_asymr_hipres\"\n",
    "val_pows_r = ['-103', '-85', '-61', '-45', '-34', '-11', '10', '18', '27', '40', '49']\n",
    "val_pows_l = ['-112', '-93', '-68', '-51', '-39', '-11', '9', '17', '28', '41', '50']\n",
    "l1_norms_r = get_validation_norms(gpe_dir, val_pows_r, \"_asymr_hipres\", 1, gpe_dir)\n",
    "l2_norms_r = get_validation_norms(gpe_dir, val_pows_r, \"_asymr_hipres\", 2, gpe_dir)\n",
    "l1_norms_l = get_validation_norms(gpe_dir, val_pows_l, \"_asyml_hipres\", 1, gpe_dir)\n",
    "l2_norms_l = get_validation_norms(gpe_dir, val_pows_l, \"_asyml_hipres\", 2, gpe_dir)"
   ]
  },
  {
   "cell_type": "code",
   "execution_count": null,
   "id": "bb29aa5b",
   "metadata": {},
   "outputs": [],
   "source": [
    "val_pows_r_ar = [float(pow)/10 for pow in val_pows_r]\n",
    "val_pows_l_ar = [float(pow)/10 for pow in val_pows_l]"
   ]
  },
  {
   "cell_type": "code",
   "execution_count": null,
   "id": "9c5ef935",
   "metadata": {},
   "outputs": [],
   "source": [
    "def get_validation_norms_test(gpe_direc, val_powers, offset_name, norm_type):\n",
    "    \"\"\"\n",
    "    get validation results for each launch power\n",
    "    \"\"\"\n",
    "    norms = np.zeros([len(val_powers),1])\n",
    "    frac_stds = np.zeros([len(val_powers),1])\n",
    "    pred_means = np.zeros([len(val_powers),1])\n",
    "    pred_stds = np.zeros([len(val_powers),1])\n",
    "    for i in range(len(val_powers)):    \n",
    "        #val_pts = pickle.load(open(\"saved_models/\"+gpe_dir+\"/validation_points_ssfm\"+val_pow+offset+\".pkl\", 'rb'))\n",
    "        pred = pickle.load(open(gpe_dir+\"/predictions_ssfm\"+val_powers[i]+offset_name+\".pkl\", 'rb'))\n",
    "        frac_stds[i] = np.mean((pred.unc**0.5)/pred.mean)\n",
    "        pred_means[i] = np.mean(pred.mean)\n",
    "        pred_stds[i] = np.mean(pred.unc**0.5)\n",
    "#         print(np.mean(pred.unc**0.5))\n",
    "        val_out = pickle.load(open(gpe_dir+\"/validation_output_ssfm\"+val_powers[i]+offset_name+\".pkl\", 'rb'))\n",
    "#         print(val_out[0])\n",
    "        norms[i] = norm((pred.mean - val_out), norm_type)\n",
    "    return norms, pred_means, val_out, frac_stds, pred_stds"
   ]
  },
  {
   "cell_type": "code",
   "execution_count": null,
   "id": "eed2bb63",
   "metadata": {},
   "outputs": [],
   "source": [
    "_, val_pred_means, _, val_pred_stds_frac, val_pred_stds = get_validation_norms_test(data_dir_cont, val_pows_r, \"_asymr_hipres\", 1)\n",
    "val_pred_stds_frac = val_pred_stds_frac*100 # express fractional std as a percentage of the predictive mean"
   ]
  },
  {
   "cell_type": "code",
   "execution_count": null,
   "id": "97342d83",
   "metadata": {},
   "outputs": [],
   "source": [
    "f, ax = plt.subplots()\n",
    "plt.plot(val_pows_r_ar,l1_norms_r/20, 'r^', label='L1')\n",
    "plt.plot(val_pows_r_ar,l2_norms_r/20, 'bP', label='L2')\n",
    "# plt.plot(val_pows_l_ar,l1_norms_l, 'b--', label='L1 L')\n",
    "# plt.plot(val_pows_l_ar,l2_norms_l, 'b:', label='L2 L')\n",
    "plt.ylabel(\"Mean error (dB)\")\n",
    "plt.xlabel(\"Launch power (dBm)\")\n",
    "plt.xlim([val_pows_r_ar[0]-0.5, val_pows_r_ar[-1]+0.5])\n",
    "plt.ylim([0,0.003])\n",
    "plt.grid()\n",
    "plt.legend(ncol=2, prop={'size':12}, loc=0)\n",
    "f.patch.set_facecolor('w')\n",
    "ax.set_aspect(1.0/ax.get_data_ratio(), adjustable='box')\n",
    "#plt.savefig('figures/val_norms_vs_launch_power_right.png', dpi=500,bbox_inches='tight')\n",
    "plt.show()"
   ]
  },
  {
   "cell_type": "code",
   "execution_count": null,
   "id": "78ad0e9a",
   "metadata": {},
   "outputs": [],
   "source": [
    "plt.rcParams['text.usetex'] = False\n",
    "f, ax = plt.subplots()\n",
    "plt.plot(val_pows_r_ar, val_pred_stds_frac, 'g^')\n",
    "plt.ylabel(\"Predictive standard deviation (%)\")\n",
    "plt.xlabel(\"Launch power (dBm)\")\n",
    "plt.xlim([val_pows_r_ar[0]-0.5, val_pows_r_ar[-1]+0.5])\n",
    "# plt.ylim([0,0.003])\n",
    "plt.grid()\n",
    "# plt.legend(ncol=2, prop={'size':12}, loc=0)\n",
    "f.patch.set_facecolor('w')\n",
    "ax.set_aspect(1.0/ax.get_data_ratio(), adjustable='box')\n",
    "# plt.savefig('figures/fractional_predictive_std_validation.png', dpi=500,bbox_inches='tight')\n",
    "plt.show()"
   ]
  },
  {
   "cell_type": "code",
   "execution_count": null,
   "id": "b99d8d2a",
   "metadata": {},
   "outputs": [],
   "source": [
    "val_pred_stds"
   ]
  },
  {
   "cell_type": "code",
   "execution_count": null,
   "id": "f44e9960",
   "metadata": {},
   "outputs": [],
   "source": [
    "val_conf_p = val_pred_means + 3*val_pred_stds\n",
    "val_conf_n = val_pred_means - 3*val_pred_stds"
   ]
  },
  {
   "cell_type": "code",
   "execution_count": null,
   "id": "9d473ae8",
   "metadata": {},
   "outputs": [],
   "source": [
    "f, ax = plt.subplots()\n",
    "plt.plot(val_pows_r_ar, val_pred_means, 'rx')\n",
    "ax.fill(np.concatenate([val_pows_r_ar, val_pows_r_ar[::-1]]),\n",
    "            np.concatenate([val_conf_p,\n",
    "                            (val_conf_n)[::-1]]),\n",
    "            alpha=0.3, fc='r', ec='None', label='3$\\sigma$ confidence')\n",
    "plt.ylabel(\"Predictive standard deviation (%)\")\n",
    "plt.xlabel(\"Launch power (dBm)\")\n",
    "plt.xlim([val_pows_r_ar[0]-0.5, val_pows_r_ar[-1]+0.5])\n",
    "# plt.ylim([0,0.003])\n",
    "plt.grid()\n",
    "# plt.legend(ncol=2, prop={'size':12}, loc=0)\n",
    "f.patch.set_facecolor('w')\n",
    "ax.set_aspect(1.0/ax.get_data_ratio(), adjustable='box')\n",
    "# plt.savefig('figures/fractional_predictive_std_validation.png', dpi=500,bbox_inches='tight')\n",
    "plt.show()"
   ]
  },
  {
   "cell_type": "markdown",
   "id": "explicit-friendship",
   "metadata": {},
   "source": [
    "Plot dataset used:"
   ]
  },
  {
   "cell_type": "code",
   "execution_count": 4,
   "id": "sealed-bermuda",
   "metadata": {},
   "outputs": [],
   "source": [
    "ground_truth_sim = pickle.load(open(\"gt_data/ssfm_full_power_ground_truth_sim_hipres.pkl\", 'rb')).reshape(211,)\n",
    "power_exp = np.arange(-15., 6.1, 0.1)\n",
    "x_lin = power_exp[139]*np.ones([7,])\n",
    "y_lin = np.arange(9,16,1)"
   ]
  },
  {
   "cell_type": "code",
   "execution_count": 5,
   "id": "ruled-connectivity",
   "metadata": {},
   "outputs": [
    {
     "data": {
      "image/png": "[encoded data removed]",
      "text/plain": [
       "<Figure size 432x288 with 1 Axes>"
      ]
     },
     "metadata": {},
     "output_type": "display_data"
    }
   ],
   "source": [
    "f, ax = plt.subplots()\n",
    "plt.plot(power_exp, ground_truth_sim, 'deepskyblue')\n",
    "plt.xlabel(\"Launch power (dBm)\")\n",
    "plt.ylabel(\"SNR (dB)\")\n",
    "plt.grid()\n",
    "plt.text(0.25, 0.95, 'Linear', horizontalalignment='center',\n",
    "     verticalalignment='center', transform=ax.transAxes, fontsize = 12)\n",
    "plt.text(0.25, 0.90, 'regime', horizontalalignment='center',\n",
    "     verticalalignment='center', transform=ax.transAxes, fontsize = 12)\n",
    "plt.text(0.85, 0.95, 'Nonlinear', horizontalalignment='center',\n",
    "     verticalalignment='center', transform=ax.transAxes, fontsize = 12)\n",
    "plt.text(0.85, 0.90, 'regime', horizontalalignment='center',\n",
    "     verticalalignment='center', transform=ax.transAxes, fontsize = 12)\n",
    "# plt.text(0.2, 0.95, 'towards linear regime', horizontalalignment='center',\n",
    "#      verticalalignment='center', transform=ax.transAxes, fontsize = 12)\n",
    "plt.plot(x_lin, y_lin, 'k--')\n",
    "# plt.plot(power_exp[38], ground_truth_sim[38], 'b^', label='3 dB L') # -11.2 (3db) L\n",
    "plt.plot(power_exp[47], ground_truth_sim[47], 'r^', label='3 dB') # -10.3 (3db) R\n",
    "# plt.plot(power_exp[56], ground_truth_sim[56], 'b^', label='2 dB L') # -9.4 (2db) L\n",
    "plt.plot(power_exp[65], ground_truth_sim[65], 'bX', label='2 dB') # -8.5 (2db) R\n",
    "# plt.plot(power_exp[80], ground_truth_sim[80], 'b^', label='1 dB L') # -7.0 (1db) L\n",
    "plt.plot(power_exp[88], ground_truth_sim[88], 'mP', label='1 dB') # -6.2 (1db) R\n",
    "plt.plot(power_exp[105], ground_truth_sim[105], 'g>', label='0.5 dB') # -4.5 (0.5db) R\n",
    "plt.plot(power_exp[116], ground_truth_sim[116],'y<', label='0.25 dB') # -3.4 (0.25db) R\n",
    "plt.plot(power_exp[139], ground_truth_sim[139], 'k*', label='Peak') # -1.1 (all) R\n",
    "plt.plot(power_exp[160], ground_truth_sim[160], 'y<') # 1.0 (0.25db) R\n",
    "plt.plot(power_exp[168], ground_truth_sim[168], 'g>') # 1.8 (0.5db) R\n",
    "plt.plot(power_exp[177], ground_truth_sim[177], 'mP') # 2.7 (1db)  R\n",
    "plt.plot(power_exp[190], ground_truth_sim[190], 'bX') # 4.0 (2db)  R \n",
    "plt.plot(power_exp[199], ground_truth_sim[199], 'r^') # 4.9 (3db)  R \n",
    "# plt.plot(power_exp[178], ground_truth_sim[178], 'mP') # 2.8 (1db)  L\n",
    "# plt.plot(power_exp[191], ground_truth_sim[191], 'bX') # 4.1 (2db)  L \n",
    "# plt.plot(power_exp[200], ground_truth_sim[200], 'r^') # 5.0 (3db)  L \n",
    "plt.xlim([-12, 6])\n",
    "plt.ylim([10, 14])\n",
    "plt.legend(ncol=1, prop={'size':12}, loc=0)\n",
    "f.patch.set_facecolor('w')\n",
    "ax.set_aspect(1.0/ax.get_data_ratio(), adjustable='box')\n",
    "#plt.savefig('figures/ground_truth_data_det_power_right.png', dpi=500,bbox_inches='tight')\n",
    "plt.show()"
   ]
  },
  {
   "cell_type": "markdown",
   "id": "9baf9d4a",
   "metadata": {},
   "source": [
    "Get hyperparameter values for GPEs"
   ]
  },
  {
   "cell_type": "code",
   "execution_count": 36,
   "id": "7f79796b",
   "metadata": {},
   "outputs": [
    {
     "name": "stdout",
     "output_type": "stream",
     "text": [
      "[ 2.90503266 -0.75271919 -2.03367434 -2.55929983  2.43420611  1.59812565]\n"
     ]
    }
   ],
   "source": [
    "# power_value = '-103'\n",
    "# y_gt = ground_truth_sim[47]*np.ones([100,1])\n",
    "# power_value = '-11'\n",
    "# y_gt = ground_truth_sim[139]*np.ones([100,1])\n",
    "power_value = '49'\n",
    "y_gt = ground_truth_sim[199]*np.ones([100,1])\n",
    "\n",
    "gpe_model = pickle.load(open(\"saved_gpes/fitted_GPE_ssfm\"+power_value+\"_asymr_hipres.pkl\",'rb'))\n",
    "print(gpe_model.theta)"
   ]
  },
  {
   "cell_type": "code",
   "execution_count": 37,
   "id": "7edf52ac",
   "metadata": {},
   "outputs": [
    {
     "name": "stdout",
     "output_type": "stream",
     "text": [
      "Correlation length alpha =  0.23398077392322733\n",
      "Correlation length gamma =  1.4569709574649115\n",
      "Correlation length NF =  2.7644374787462773\n",
      "Correlation length b2b =  3.5953808247527563\n",
      "Covariance scale =  3.3773894346726965\n",
      "Noise sigma =  0.003377389434672697\n"
     ]
    }
   ],
   "source": [
    "print(\"Correlation length alpha = \", np.exp(-gpe_model.theta[0])**0.5)\n",
    "print(\"Correlation length gamma = \", np.exp(-gpe_model.theta[1])**0.5)\n",
    "print(\"Correlation length NF = \", np.exp(-gpe_model.theta[2])**0.5)\n",
    "print(\"Correlation length b2b = \", np.exp(-gpe_model.theta[3])**0.5)\n",
    "print(\"Covariance scale = \", np.exp(gpe_model.theta[4])**0.5)\n",
    "print(\"Noise sigma = \", gpe_model.nugget**0.5)"
   ]
  },
  {
   "cell_type": "markdown",
   "id": "6c5241cf",
   "metadata": {},
   "source": [
    "Plot GPE parameter sweep"
   ]
  },
  {
   "cell_type": "code",
   "execution_count": 38,
   "id": "60d3a449",
   "metadata": {},
   "outputs": [],
   "source": [
    "def sweep_alpha(low, high, numpts, gamma, nf, btb, gp):\n",
    "    alphas = np.linspace(low,high,numpts).reshape(numpts,1)\n",
    "    gammas = (np.ones(numpts)*gamma).reshape(numpts,1)\n",
    "    nfs = (np.ones(numpts)*nf).reshape(numpts,1)\n",
    "    btbs = (np.ones(numpts)*btb).reshape(numpts,1)\n",
    "    args = np.concatenate((alphas, gammas, nfs, btbs),axis=1)\n",
    "    return alphas, gp.predict(args)[0], gp.predict(args)[1]**0.5\n",
    "def sweep_gamma(low, high, numpts, alpha, nf, btb, gp):\n",
    "    gammas = np.linspace(low,high,numpts).reshape(numpts,1)\n",
    "    alphas = (np.ones(numpts)*alpha).reshape(numpts,1)\n",
    "    nfs = (np.ones(numpts)*nf).reshape(numpts,1)\n",
    "    btbs = (np.ones(numpts)*btb).reshape(numpts,1)\n",
    "    args = np.concatenate((alphas, gammas, nfs, btbs),axis=1)\n",
    "    return gammas, gp.predict(args)[0], gp.predict(args)[1]**0.5\n",
    "def sweep_nf(low, high, numpts, alpha, gamma, btb, gp):\n",
    "    nfs = np.linspace(low,high,numpts).reshape(numpts,1)\n",
    "    alphas = (np.ones(numpts)*alpha).reshape(numpts,1)\n",
    "    gammas = (np.ones(numpts)*gamma).reshape(numpts,1)\n",
    "    btbs = (np.ones(numpts)*btb).reshape(numpts,1)\n",
    "    args = np.concatenate((alphas, gammas, nfs, btbs),axis=1)\n",
    "    return nfs, gp.predict(args)[0], gp.predict(args)[1]**0.5\n",
    "def sweep_btb(low, high, numpts, alpha, gamma, nf, gp):\n",
    "    btbs = np.linspace(low,high,numpts).reshape(numpts,1)\n",
    "    alphas = (np.ones(numpts)*alpha).reshape(numpts,1)\n",
    "    gammas = (np.ones(numpts)*gamma).reshape(numpts,1)\n",
    "    nfs = (np.ones(numpts)*nf).reshape(numpts,1)\n",
    "    args = np.concatenate((alphas, gammas, nfs, btbs),axis=1)\n",
    "    return btbs, gp.predict(args)[0], gp.predict(args)[1]**0.5"
   ]
  },
  {
   "cell_type": "code",
   "execution_count": 39,
   "id": "58f044dc",
   "metadata": {},
   "outputs": [],
   "source": [
    "alpha, gamma, nf, btb =   0.2, 1.2, 4.5, 14.8\n",
    "alpha_sweep_range_low, alpha_sweep_range_high = 0.19,0.22\n",
    "gamma_sweep_range_low, gamma_sweep_range_high = 1.0, 1.5\n",
    "nf_sweep_range_low, nf_sweep_range_high = 4.3, 4.8\n",
    "btb_sweep_range_low, btb_sweep_range_high = 14.5, 15.2\n",
    "\n",
    "alphas, alpha_sweep, alpha_sweep_unc = sweep_alpha(alpha_sweep_range_low,alpha_sweep_range_high,100, gamma, nf, btb, gpe_model)\n",
    "gammas, gamma_sweep, gamma_sweep_unc = sweep_gamma(gamma_sweep_range_low,gamma_sweep_range_high,100, alpha, nf, btb, gpe_model)\n",
    "nfs, nf_sweep, nf_sweep_unc = sweep_nf(nf_sweep_range_low,nf_sweep_range_high,100, alpha, gamma, btb, gpe_model)\n",
    "btbs, btb_sweep, btb_sweep_unc = sweep_btb(btb_sweep_range_low,btb_sweep_range_high,100, alpha, gamma, nf, gpe_model)\n",
    "\n",
    "alpha_sweep_confp = alpha_sweep + 3*alpha_sweep_unc\n",
    "alpha_sweep_confn = alpha_sweep - 3*alpha_sweep_unc\n",
    "gamma_sweep_confp = gamma_sweep + 3*gamma_sweep_unc\n",
    "gamma_sweep_confn = gamma_sweep - 3*gamma_sweep_unc\n",
    "nf_sweep_confp = nf_sweep + 3*nf_sweep_unc\n",
    "nf_sweep_confn = nf_sweep - 3*nf_sweep_unc\n",
    "btb_sweep_confp = btb_sweep + 3*btb_sweep_unc\n",
    "btb_sweep_confn = btb_sweep - 3*btb_sweep_unc"
   ]
  },
  {
   "cell_type": "code",
   "execution_count": 41,
   "id": "e0e18393",
   "metadata": {},
   "outputs": [
    {
     "data": {
      "image/png": "[encoded data removed]",
      "text/plain": [
       "<Figure size 432x288 with 1 Axes>"
      ]
     },
     "metadata": {
      "needs_background": "light"
     },
     "output_type": "display_data"
    }
   ],
   "source": [
    "f, ax = plt.subplots()\n",
    "plt.plot(alphas, alpha_sweep)\n",
    "plt.plot(alphas, y_gt, 'k--', label='Ground truth')\n",
    "ax.fill(np.concatenate([alphas, alphas[::-1]]),\n",
    "            np.concatenate([alpha_sweep_confp,\n",
    "                            (alpha_sweep_confn)[::-1]]),\n",
    "            alpha=0.3, fc='r', ec='None', label='3$\\sigma$ confidence')\n",
    "plt.xlabel(\"Fibre loss (dB $\\cdot$ km$^{-1}$)\")\n",
    "plt.ylabel(\"SNR (dB)\")\n",
    "plt.xlim([alphas[0],alphas[-1]])\n",
    "# plt.ylim([9.75, 11.75])\n",
    "# plt.ylim([13.55,14.0])\n",
    "plt.ylim([10.7,11.5])\n",
    "ax.set_aspect(1.0/ax.get_data_ratio(), adjustable='box')\n",
    "plt.grid()\n",
    "plt.legend()\n",
    "plt.savefig('figures/'+power_value+'_alphasweep.jpeg', dpi=300,bbox_inches='tight')\n",
    "plt.show()"
   ]
  },
  {
   "cell_type": "code",
   "execution_count": 43,
   "id": "d3e9eb73",
   "metadata": {},
   "outputs": [
    {
     "data": {
      "image/png": "[encoded data removed]",
      "text/plain": [
       "<Figure size 432x288 with 1 Axes>"
      ]
     },
     "metadata": {
      "needs_background": "light"
     },
     "output_type": "display_data"
    }
   ],
   "source": [
    "f, ax = plt.subplots()\n",
    "plt.plot(gammas, gamma_sweep)\n",
    "plt.plot(gammas, y_gt, 'k--', label='Ground truth')\n",
    "ax.fill(np.concatenate([gammas, gammas[::-1]]),\n",
    "            np.concatenate([gamma_sweep_confp,\n",
    "                            (gamma_sweep_confn)[::-1]]),\n",
    "            alpha=0.3, fc='r', ec='None', label='3$\\sigma$ confidence')\n",
    "plt.xlabel(\"Nonlinearity coefficient (W$^{-1}$ $\\cdot$ km$^{-1}$)\")\n",
    "plt.ylabel(\"SNR (dB)\")\n",
    "plt.xlim([gammas[0],gammas[-1]])\n",
    "# plt.ylim([11.11,11.16])\n",
    "# plt.ylim([13.65,14])\n",
    "plt.ylim([9.5,12])\n",
    "ax.set_aspect(1.0/ax.get_data_ratio(), adjustable='box')\n",
    "plt.grid()\n",
    "plt.legend()\n",
    "plt.savefig('figures/'+power_value+'_gammasweep.jpeg', dpi=300,bbox_inches='tight')\n",
    "plt.show()"
   ]
  },
  {
   "cell_type": "code",
   "execution_count": 45,
   "id": "a71bb47e",
   "metadata": {},
   "outputs": [
    {
     "data": {
      "image/png": "[encoded data removed]",
      "text/plain": [
       "<Figure size 432x288 with 1 Axes>"
      ]
     },
     "metadata": {
      "needs_background": "light"
     },
     "output_type": "display_data"
    }
   ],
   "source": [
    "f, ax = plt.subplots()\n",
    "plt.plot(nfs, nf_sweep)\n",
    "plt.plot(nfs, y_gt, 'k--', label='Ground truth')\n",
    "ax.fill(np.concatenate([nfs, nfs[::-1]]),\n",
    "            np.concatenate([nf_sweep_confp,\n",
    "                            (nf_sweep_confn)[::-1]]),\n",
    "            alpha=0.3, fc='r', ec='None', label='3$\\sigma$ confidence')\n",
    "plt.xlabel(\"Amplifier NF (dB)\")\n",
    "plt.ylabel(\"SNR (dB)\")\n",
    "plt.xlim([nfs[0],nfs[-1]])\n",
    "# plt.ylim([10.9,11.3])\n",
    "# plt.ylim([13.8,13.92])\n",
    "plt.ylim(10.97,11.005)\n",
    "ax.set_aspect(1.0/ax.get_data_ratio(), adjustable='box')\n",
    "plt.grid()\n",
    "plt.legend()\n",
    "plt.savefig('figures/'+power_value+'_nfsweep.jpeg', dpi=300,bbox_inches='tight')\n",
    "plt.show()"
   ]
  },
  {
   "cell_type": "code",
   "execution_count": 47,
   "id": "1db3babd",
   "metadata": {},
   "outputs": [
    {
     "data": {
      "image/png": "[encoded data removed]",
      "text/plain": [
       "<Figure size 432x288 with 1 Axes>"
      ]
     },
     "metadata": {
      "needs_background": "light"
     },
     "output_type": "display_data"
    }
   ],
   "source": [
    "f, ax = plt.subplots()\n",
    "plt.plot(btbs, btb_sweep)\n",
    "plt.plot(btbs, y_gt, 'k--', label='Ground truth')\n",
    "ax.fill(np.concatenate([btbs, btbs[::-1]]),\n",
    "            np.concatenate([btb_sweep_confp,\n",
    "                            (btb_sweep_confn)[::-1]]),\n",
    "            alpha=0.3, fc='r', ec='None', label='3$\\sigma$ confidence')\n",
    "plt.xlabel(\"TRx BTB (dB)\")\n",
    "plt.ylabel(\"SNR (dB)\")\n",
    "plt.xlim([btbs[0],btbs[-1]])\n",
    "ax.set_xticks([14.5,14.6,14.7,14.8,14.9,15, 15.1, 15.2])\n",
    "# plt.ylim([10.95,11.35])\n",
    "# plt.ylim([13.6,14.2])\n",
    "plt.ylim([10.85,11.2])\n",
    "ax.set_aspect(1.0/ax.get_data_ratio(), adjustable='box')\n",
    "plt.grid()\n",
    "plt.legend()\n",
    "plt.savefig('figures/'+power_value+'_btbsweep.jpeg', dpi=300,bbox_inches='tight')\n",
    "plt.show()"
   ]
  },
  {
   "cell_type": "markdown",
   "id": "2ee5ef2d",
   "metadata": {},
   "source": [
    "Get predictive variance of GPE models"
   ]
  },
  {
   "cell_type": "code",
   "execution_count": null,
   "id": "813a3320",
   "metadata": {},
   "outputs": [],
   "source": [
    "def lin2db(x):\n",
    "    return 10*np.log10(x)\n",
    "def db2lin(x):\n",
    "    return 10**(x/10)\n",
    "def get_gpe_pred(power, alpha, nf, gamma, b2b):\n",
    "    gpe_model = pickle.load(open(\"saved_gpes/fitted_GPE_ssfm\"+power+\"_asymr_hipres.pkl\",'rb'))\n",
    "    preds = gpe_model.predict([alpha, nf, gamma, b2b])\n",
    "    return preds.mean, preds.unc**0.5"
   ]
  },
  {
   "cell_type": "code",
   "execution_count": null,
   "id": "3bfcfb1a",
   "metadata": {},
   "outputs": [],
   "source": [
    "get_gpe_pred('-103', 0.2, 1.2, 4.5, 14.8)[0]"
   ]
  },
  {
   "cell_type": "code",
   "execution_count": null,
   "id": "07ed9348",
   "metadata": {},
   "outputs": [],
   "source": [
    "abs(get_gpe_pred('-103', 0.2, 1.2, 4.5, 14.8)[0] - ground_truth_sim[47])"
   ]
  },
  {
   "cell_type": "code",
   "execution_count": null,
   "id": "ff15fe0e",
   "metadata": {},
   "outputs": [],
   "source": [
    "abs(get_gpe_pred('-85', 0.2, 1.2, 4.5, 14.8)[0] - ground_truth_sim[65])"
   ]
  },
  {
   "cell_type": "code",
   "execution_count": null,
   "id": "e202bcd7",
   "metadata": {},
   "outputs": [],
   "source": [
    "abs(get_gpe_pred('-62',0.2, 1.2, 4.5, 14.8)[0] - ground_truth_sim[88])"
   ]
  },
  {
   "cell_type": "code",
   "execution_count": null,
   "id": "699987da",
   "metadata": {},
   "outputs": [],
   "source": [
    "abs(get_gpe_pred('-45', 0.2, 1.2, 4.5, 14.8)[0] - ground_truth_sim[105])"
   ]
  },
  {
   "cell_type": "code",
   "execution_count": null,
   "id": "b90dd926",
   "metadata": {},
   "outputs": [],
   "source": [
    "abs(get_gpe_pred('-34', 0.2, 1.2, 4.5, 14.8)[0] - ground_truth_sim[116])"
   ]
  },
  {
   "cell_type": "code",
   "execution_count": null,
   "id": "100625e5",
   "metadata": {},
   "outputs": [],
   "source": [
    "abs(get_gpe_pred('-11', 0.2, 1.2, 4.5, 14.8)[0] - ground_truth_sim[139])"
   ]
  },
  {
   "cell_type": "code",
   "execution_count": null,
   "id": "0e8db6d9",
   "metadata": {},
   "outputs": [],
   "source": [
    "abs(get_gpe_pred('10', 0.2, 1.2, 4.5, 14.8)[0] - ground_truth_sim[160])"
   ]
  },
  {
   "cell_type": "code",
   "execution_count": null,
   "id": "c6d482b9",
   "metadata": {},
   "outputs": [],
   "source": [
    "abs(get_gpe_pred('18', 0.2, 1.2, 4.5, 14.8)[0] - ground_truth_sim[168])"
   ]
  },
  {
   "cell_type": "code",
   "execution_count": null,
   "id": "d070bdd7",
   "metadata": {},
   "outputs": [],
   "source": [
    "abs(get_gpe_pred('27', 0.2, 1.2, 4.5, 14.8)[0] - ground_truth_sim[177])"
   ]
  },
  {
   "cell_type": "code",
   "execution_count": null,
   "id": "6b779a66",
   "metadata": {},
   "outputs": [],
   "source": [
    "abs(get_gpe_pred('40', 0.2, 1.2, 4.5, 14.8)[0] - ground_truth_sim[190])"
   ]
  },
  {
   "cell_type": "code",
   "execution_count": null,
   "id": "c046a9f3",
   "metadata": {},
   "outputs": [],
   "source": [
    "abs(get_gpe_pred('49', 0.2, 1.2, 4.5, 14.8)[0] - ground_truth_sim[199])"
   ]
  },
  {
   "cell_type": "code",
   "execution_count": null,
   "id": "50878ef4",
   "metadata": {},
   "outputs": [],
   "source": [
    "plt.plot(power_exp[105], ground_truth_sim[105], 'g>', label='0.5 dB') # -4.5 (0.5db) R\n",
    "plt.plot(power_exp[116], ground_truth_sim[116],'y<', label='0.25 dB') # -3.4 (0.25db) R\n",
    "plt.plot(power_exp[139], ground_truth_sim[139], 'k*', label='Peak') # -1.1 (all) R\n",
    "plt.plot(power_exp[160], ground_truth_sim[160], 'y<') # 1.0 (0.25db) R\n",
    "plt.plot(power_exp[168], ground_truth_sim[168], 'g>') # 1.8 (0.5db) R\n",
    "plt.plot(power_exp[177], ground_truth_sim[177], 'mP') # 2.7 (1db)  R\n",
    "plt.plot(power_exp[190], ground_truth_sim[190], 'bX') # 4.0 (2db)  R \n",
    "plt.plot(power_exp[199], ground_truth_sim[199], 'r^') # 4.9 (3db)  R "
   ]
  },
  {
   "cell_type": "code",
   "execution_count": null,
   "id": "b6f6eb2b",
   "metadata": {},
   "outputs": [],
   "source": [
    "pip list"
   ]
  },
  {
   "cell_type": "code",
   "execution_count": null,
   "id": "59456124",
   "metadata": {},
   "outputs": [],
   "source": []
  }
 ],
 "metadata": {
  "kernelspec": {
   "display_name": "Python 3 (ipykernel)",
   "language": "python",
   "name": "python3"
  },
  "language_info": {
   "codemirror_mode": {
    "name": "ipython",
    "version": 3
   },
   "file_extension": ".py",
   "mimetype": "text/x-python",
   "name": "python",
   "nbconvert_exporter": "python",
   "pygments_lexer": "ipython3",
   "version": "3.8.0"
  }
 },
 "nbformat": 4,
 "nbformat_minor": 5
}
